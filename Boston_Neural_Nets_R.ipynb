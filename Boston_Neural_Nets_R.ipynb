{
 "cells": [
  {
   "cell_type": "markdown",
   "metadata": {},
   "source": [
    "## Boston Neural Nets"
   ]
  },
  {
   "cell_type": "markdown",
   "metadata": {},
   "source": [
    "### Reading and Understanding the data"
   ]
  },
  {
   "cell_type": "code",
   "execution_count": 1,
   "metadata": {},
   "outputs": [],
   "source": [
    "library(MASS)"
   ]
  },
  {
   "cell_type": "code",
   "execution_count": 2,
   "metadata": {},
   "outputs": [
    {
     "data": {
      "text/html": [
       "<table>\n",
       "<caption>A data.frame: 6 × 14</caption>\n",
       "<thead>\n",
       "\t<tr><th></th><th scope=col>crim</th><th scope=col>zn</th><th scope=col>indus</th><th scope=col>chas</th><th scope=col>nox</th><th scope=col>rm</th><th scope=col>age</th><th scope=col>dis</th><th scope=col>rad</th><th scope=col>tax</th><th scope=col>ptratio</th><th scope=col>black</th><th scope=col>lstat</th><th scope=col>medv</th></tr>\n",
       "\t<tr><th></th><th scope=col>&lt;dbl&gt;</th><th scope=col>&lt;dbl&gt;</th><th scope=col>&lt;dbl&gt;</th><th scope=col>&lt;int&gt;</th><th scope=col>&lt;dbl&gt;</th><th scope=col>&lt;dbl&gt;</th><th scope=col>&lt;dbl&gt;</th><th scope=col>&lt;dbl&gt;</th><th scope=col>&lt;int&gt;</th><th scope=col>&lt;dbl&gt;</th><th scope=col>&lt;dbl&gt;</th><th scope=col>&lt;dbl&gt;</th><th scope=col>&lt;dbl&gt;</th><th scope=col>&lt;dbl&gt;</th></tr>\n",
       "</thead>\n",
       "<tbody>\n",
       "\t<tr><th scope=row>1</th><td>0.00632</td><td>18</td><td>2.31</td><td>0</td><td>0.538</td><td>6.575</td><td>65.2</td><td>4.0900</td><td>1</td><td>296</td><td>15.3</td><td>396.90</td><td>4.98</td><td>24.0</td></tr>\n",
       "\t<tr><th scope=row>2</th><td>0.02731</td><td> 0</td><td>7.07</td><td>0</td><td>0.469</td><td>6.421</td><td>78.9</td><td>4.9671</td><td>2</td><td>242</td><td>17.8</td><td>396.90</td><td>9.14</td><td>21.6</td></tr>\n",
       "\t<tr><th scope=row>3</th><td>0.02729</td><td> 0</td><td>7.07</td><td>0</td><td>0.469</td><td>7.185</td><td>61.1</td><td>4.9671</td><td>2</td><td>242</td><td>17.8</td><td>392.83</td><td>4.03</td><td>34.7</td></tr>\n",
       "\t<tr><th scope=row>4</th><td>0.03237</td><td> 0</td><td>2.18</td><td>0</td><td>0.458</td><td>6.998</td><td>45.8</td><td>6.0622</td><td>3</td><td>222</td><td>18.7</td><td>394.63</td><td>2.94</td><td>33.4</td></tr>\n",
       "\t<tr><th scope=row>5</th><td>0.06905</td><td> 0</td><td>2.18</td><td>0</td><td>0.458</td><td>7.147</td><td>54.2</td><td>6.0622</td><td>3</td><td>222</td><td>18.7</td><td>396.90</td><td>5.33</td><td>36.2</td></tr>\n",
       "\t<tr><th scope=row>6</th><td>0.02985</td><td> 0</td><td>2.18</td><td>0</td><td>0.458</td><td>6.430</td><td>58.7</td><td>6.0622</td><td>3</td><td>222</td><td>18.7</td><td>394.12</td><td>5.21</td><td>28.7</td></tr>\n",
       "</tbody>\n",
       "</table>\n"
      ],
      "text/latex": [
       "A data.frame: 6 × 14\n",
       "\\begin{tabular}{r|llllllllllllll}\n",
       "  & crim & zn & indus & chas & nox & rm & age & dis & rad & tax & ptratio & black & lstat & medv\\\\\n",
       "  & <dbl> & <dbl> & <dbl> & <int> & <dbl> & <dbl> & <dbl> & <dbl> & <int> & <dbl> & <dbl> & <dbl> & <dbl> & <dbl>\\\\\n",
       "\\hline\n",
       "\t1 & 0.00632 & 18 & 2.31 & 0 & 0.538 & 6.575 & 65.2 & 4.0900 & 1 & 296 & 15.3 & 396.90 & 4.98 & 24.0\\\\\n",
       "\t2 & 0.02731 &  0 & 7.07 & 0 & 0.469 & 6.421 & 78.9 & 4.9671 & 2 & 242 & 17.8 & 396.90 & 9.14 & 21.6\\\\\n",
       "\t3 & 0.02729 &  0 & 7.07 & 0 & 0.469 & 7.185 & 61.1 & 4.9671 & 2 & 242 & 17.8 & 392.83 & 4.03 & 34.7\\\\\n",
       "\t4 & 0.03237 &  0 & 2.18 & 0 & 0.458 & 6.998 & 45.8 & 6.0622 & 3 & 222 & 18.7 & 394.63 & 2.94 & 33.4\\\\\n",
       "\t5 & 0.06905 &  0 & 2.18 & 0 & 0.458 & 7.147 & 54.2 & 6.0622 & 3 & 222 & 18.7 & 396.90 & 5.33 & 36.2\\\\\n",
       "\t6 & 0.02985 &  0 & 2.18 & 0 & 0.458 & 6.430 & 58.7 & 6.0622 & 3 & 222 & 18.7 & 394.12 & 5.21 & 28.7\\\\\n",
       "\\end{tabular}\n"
      ],
      "text/markdown": [
       "\n",
       "A data.frame: 6 × 14\n",
       "\n",
       "| <!--/--> | crim &lt;dbl&gt; | zn &lt;dbl&gt; | indus &lt;dbl&gt; | chas &lt;int&gt; | nox &lt;dbl&gt; | rm &lt;dbl&gt; | age &lt;dbl&gt; | dis &lt;dbl&gt; | rad &lt;int&gt; | tax &lt;dbl&gt; | ptratio &lt;dbl&gt; | black &lt;dbl&gt; | lstat &lt;dbl&gt; | medv &lt;dbl&gt; |\n",
       "|---|---|---|---|---|---|---|---|---|---|---|---|---|---|---|\n",
       "| 1 | 0.00632 | 18 | 2.31 | 0 | 0.538 | 6.575 | 65.2 | 4.0900 | 1 | 296 | 15.3 | 396.90 | 4.98 | 24.0 |\n",
       "| 2 | 0.02731 |  0 | 7.07 | 0 | 0.469 | 6.421 | 78.9 | 4.9671 | 2 | 242 | 17.8 | 396.90 | 9.14 | 21.6 |\n",
       "| 3 | 0.02729 |  0 | 7.07 | 0 | 0.469 | 7.185 | 61.1 | 4.9671 | 2 | 242 | 17.8 | 392.83 | 4.03 | 34.7 |\n",
       "| 4 | 0.03237 |  0 | 2.18 | 0 | 0.458 | 6.998 | 45.8 | 6.0622 | 3 | 222 | 18.7 | 394.63 | 2.94 | 33.4 |\n",
       "| 5 | 0.06905 |  0 | 2.18 | 0 | 0.458 | 7.147 | 54.2 | 6.0622 | 3 | 222 | 18.7 | 396.90 | 5.33 | 36.2 |\n",
       "| 6 | 0.02985 |  0 | 2.18 | 0 | 0.458 | 6.430 | 58.7 | 6.0622 | 3 | 222 | 18.7 | 394.12 | 5.21 | 28.7 |\n",
       "\n"
      ],
      "text/plain": [
       "  crim    zn indus chas nox   rm    age  dis    rad tax ptratio black  lstat\n",
       "1 0.00632 18 2.31  0    0.538 6.575 65.2 4.0900 1   296 15.3    396.90 4.98 \n",
       "2 0.02731  0 7.07  0    0.469 6.421 78.9 4.9671 2   242 17.8    396.90 9.14 \n",
       "3 0.02729  0 7.07  0    0.469 7.185 61.1 4.9671 2   242 17.8    392.83 4.03 \n",
       "4 0.03237  0 2.18  0    0.458 6.998 45.8 6.0622 3   222 18.7    394.63 2.94 \n",
       "5 0.06905  0 2.18  0    0.458 7.147 54.2 6.0622 3   222 18.7    396.90 5.33 \n",
       "6 0.02985  0 2.18  0    0.458 6.430 58.7 6.0622 3   222 18.7    394.12 5.21 \n",
       "  medv\n",
       "1 24.0\n",
       "2 21.6\n",
       "3 34.7\n",
       "4 33.4\n",
       "5 36.2\n",
       "6 28.7"
      ]
     },
     "metadata": {},
     "output_type": "display_data"
    }
   ],
   "source": [
    "head(Boston)"
   ]
  },
  {
   "cell_type": "code",
   "execution_count": 3,
   "metadata": {},
   "outputs": [
    {
     "name": "stdout",
     "output_type": "stream",
     "text": [
      "'data.frame':\t506 obs. of  14 variables:\n",
      " $ crim   : num  0.00632 0.02731 0.02729 0.03237 0.06905 ...\n",
      " $ zn     : num  18 0 0 0 0 0 12.5 12.5 12.5 12.5 ...\n",
      " $ indus  : num  2.31 7.07 7.07 2.18 2.18 2.18 7.87 7.87 7.87 7.87 ...\n",
      " $ chas   : int  0 0 0 0 0 0 0 0 0 0 ...\n",
      " $ nox    : num  0.538 0.469 0.469 0.458 0.458 0.458 0.524 0.524 0.524 0.524 ...\n",
      " $ rm     : num  6.58 6.42 7.18 7 7.15 ...\n",
      " $ age    : num  65.2 78.9 61.1 45.8 54.2 58.7 66.6 96.1 100 85.9 ...\n",
      " $ dis    : num  4.09 4.97 4.97 6.06 6.06 ...\n",
      " $ rad    : int  1 2 2 3 3 3 5 5 5 5 ...\n",
      " $ tax    : num  296 242 242 222 222 222 311 311 311 311 ...\n",
      " $ ptratio: num  15.3 17.8 17.8 18.7 18.7 18.7 15.2 15.2 15.2 15.2 ...\n",
      " $ black  : num  397 397 393 395 397 ...\n",
      " $ lstat  : num  4.98 9.14 4.03 2.94 5.33 ...\n",
      " $ medv   : num  24 21.6 34.7 33.4 36.2 28.7 22.9 27.1 16.5 18.9 ...\n"
     ]
    }
   ],
   "source": [
    "str(Boston)"
   ]
  },
  {
   "cell_type": "markdown",
   "metadata": {},
   "source": [
    "### Checking for missing values"
   ]
  },
  {
   "cell_type": "code",
   "execution_count": 4,
   "metadata": {},
   "outputs": [
    {
     "data": {
      "text/html": [
       "FALSE"
      ],
      "text/latex": [
       "FALSE"
      ],
      "text/markdown": [
       "FALSE"
      ],
      "text/plain": [
       "[1] FALSE"
      ]
     },
     "metadata": {},
     "output_type": "display_data"
    }
   ],
   "source": [
    "any(is.na(Boston))"
   ]
  },
  {
   "cell_type": "code",
   "execution_count": 5,
   "metadata": {},
   "outputs": [],
   "source": [
    "data <- Boston"
   ]
  },
  {
   "cell_type": "markdown",
   "metadata": {},
   "source": [
    "### Feature Scaling"
   ]
  },
  {
   "cell_type": "code",
   "execution_count": 6,
   "metadata": {},
   "outputs": [
    {
     "data": {
      "text/html": [
       "<style>\n",
       ".dl-inline {width: auto; margin:0; padding: 0}\n",
       ".dl-inline>dt, .dl-inline>dd {float: none; width: auto; display: inline-block}\n",
       ".dl-inline>dt::after {content: \":\\0020\"; padding-right: .5ex}\n",
       ".dl-inline>dt:not(:first-of-type) {padding-left: .5ex}\n",
       "</style><dl class=dl-inline><dt>crim</dt><dd>88.9762</dd><dt>zn</dt><dd>100</dd><dt>indus</dt><dd>27.74</dd><dt>chas</dt><dd>1</dd><dt>nox</dt><dd>0.871</dd><dt>rm</dt><dd>8.78</dd><dt>age</dt><dd>100</dd><dt>dis</dt><dd>12.1265</dd><dt>rad</dt><dd>24</dd><dt>tax</dt><dd>711</dd><dt>ptratio</dt><dd>22</dd><dt>black</dt><dd>396.9</dd><dt>lstat</dt><dd>37.97</dd><dt>medv</dt><dd>50</dd></dl>\n"
      ],
      "text/latex": [
       "\\begin{description*}\n",
       "\\item[crim] 88.9762\n",
       "\\item[zn] 100\n",
       "\\item[indus] 27.74\n",
       "\\item[chas] 1\n",
       "\\item[nox] 0.871\n",
       "\\item[rm] 8.78\n",
       "\\item[age] 100\n",
       "\\item[dis] 12.1265\n",
       "\\item[rad] 24\n",
       "\\item[tax] 711\n",
       "\\item[ptratio] 22\n",
       "\\item[black] 396.9\n",
       "\\item[lstat] 37.97\n",
       "\\item[medv] 50\n",
       "\\end{description*}\n"
      ],
      "text/markdown": [
       "crim\n",
       ":   88.9762zn\n",
       ":   100indus\n",
       ":   27.74chas\n",
       ":   1nox\n",
       ":   0.871rm\n",
       ":   8.78age\n",
       ":   100dis\n",
       ":   12.1265rad\n",
       ":   24tax\n",
       ":   711ptratio\n",
       ":   22black\n",
       ":   396.9lstat\n",
       ":   37.97medv\n",
       ":   50\n",
       "\n"
      ],
      "text/plain": [
       "    crim       zn    indus     chas      nox       rm      age      dis \n",
       " 88.9762 100.0000  27.7400   1.0000   0.8710   8.7800 100.0000  12.1265 \n",
       "     rad      tax  ptratio    black    lstat     medv \n",
       " 24.0000 711.0000  22.0000 396.9000  37.9700  50.0000 "
      ]
     },
     "metadata": {},
     "output_type": "display_data"
    }
   ],
   "source": [
    "maxs <- apply(data,2,max)\n",
    "maxs"
   ]
  },
  {
   "cell_type": "code",
   "execution_count": 7,
   "metadata": {},
   "outputs": [
    {
     "data": {
      "text/html": [
       "<style>\n",
       ".dl-inline {width: auto; margin:0; padding: 0}\n",
       ".dl-inline>dt, .dl-inline>dd {float: none; width: auto; display: inline-block}\n",
       ".dl-inline>dt::after {content: \":\\0020\"; padding-right: .5ex}\n",
       ".dl-inline>dt:not(:first-of-type) {padding-left: .5ex}\n",
       "</style><dl class=dl-inline><dt>crim</dt><dd>0.00632</dd><dt>zn</dt><dd>0</dd><dt>indus</dt><dd>0.46</dd><dt>chas</dt><dd>0</dd><dt>nox</dt><dd>0.385</dd><dt>rm</dt><dd>3.561</dd><dt>age</dt><dd>2.9</dd><dt>dis</dt><dd>1.1296</dd><dt>rad</dt><dd>1</dd><dt>tax</dt><dd>187</dd><dt>ptratio</dt><dd>12.6</dd><dt>black</dt><dd>0.32</dd><dt>lstat</dt><dd>1.73</dd><dt>medv</dt><dd>5</dd></dl>\n"
      ],
      "text/latex": [
       "\\begin{description*}\n",
       "\\item[crim] 0.00632\n",
       "\\item[zn] 0\n",
       "\\item[indus] 0.46\n",
       "\\item[chas] 0\n",
       "\\item[nox] 0.385\n",
       "\\item[rm] 3.561\n",
       "\\item[age] 2.9\n",
       "\\item[dis] 1.1296\n",
       "\\item[rad] 1\n",
       "\\item[tax] 187\n",
       "\\item[ptratio] 12.6\n",
       "\\item[black] 0.32\n",
       "\\item[lstat] 1.73\n",
       "\\item[medv] 5\n",
       "\\end{description*}\n"
      ],
      "text/markdown": [
       "crim\n",
       ":   0.00632zn\n",
       ":   0indus\n",
       ":   0.46chas\n",
       ":   0nox\n",
       ":   0.385rm\n",
       ":   3.561age\n",
       ":   2.9dis\n",
       ":   1.1296rad\n",
       ":   1tax\n",
       ":   187ptratio\n",
       ":   12.6black\n",
       ":   0.32lstat\n",
       ":   1.73medv\n",
       ":   5\n",
       "\n"
      ],
      "text/plain": [
       "     crim        zn     indus      chas       nox        rm       age       dis \n",
       "  0.00632   0.00000   0.46000   0.00000   0.38500   3.56100   2.90000   1.12960 \n",
       "      rad       tax   ptratio     black     lstat      medv \n",
       "  1.00000 187.00000  12.60000   0.32000   1.73000   5.00000 "
      ]
     },
     "metadata": {},
     "output_type": "display_data"
    }
   ],
   "source": [
    "mins <- apply(data,2,min)\n",
    "mins"
   ]
  },
  {
   "cell_type": "code",
   "execution_count": 8,
   "metadata": {},
   "outputs": [
    {
     "data": {
      "text/html": [
       "<table>\n",
       "<caption>A data.frame: 6 × 14</caption>\n",
       "<thead>\n",
       "\t<tr><th></th><th scope=col>crim</th><th scope=col>zn</th><th scope=col>indus</th><th scope=col>chas</th><th scope=col>nox</th><th scope=col>rm</th><th scope=col>age</th><th scope=col>dis</th><th scope=col>rad</th><th scope=col>tax</th><th scope=col>ptratio</th><th scope=col>black</th><th scope=col>lstat</th><th scope=col>medv</th></tr>\n",
       "\t<tr><th></th><th scope=col>&lt;dbl&gt;</th><th scope=col>&lt;dbl&gt;</th><th scope=col>&lt;dbl&gt;</th><th scope=col>&lt;dbl&gt;</th><th scope=col>&lt;dbl&gt;</th><th scope=col>&lt;dbl&gt;</th><th scope=col>&lt;dbl&gt;</th><th scope=col>&lt;dbl&gt;</th><th scope=col>&lt;dbl&gt;</th><th scope=col>&lt;dbl&gt;</th><th scope=col>&lt;dbl&gt;</th><th scope=col>&lt;dbl&gt;</th><th scope=col>&lt;dbl&gt;</th><th scope=col>&lt;dbl&gt;</th></tr>\n",
       "</thead>\n",
       "<tbody>\n",
       "\t<tr><th scope=row>1</th><td>0.0000000000</td><td>0.18</td><td>0.06781525</td><td>0</td><td>0.3148148</td><td>0.5775053</td><td>0.6416066</td><td>0.2692031</td><td>0.00000000</td><td>0.20801527</td><td>0.2872340</td><td>1.0000000</td><td>0.08967991</td><td>0.4222222</td></tr>\n",
       "\t<tr><th scope=row>2</th><td>0.0002359225</td><td>0.00</td><td>0.24230205</td><td>0</td><td>0.1728395</td><td>0.5479977</td><td>0.7826982</td><td>0.3489620</td><td>0.04347826</td><td>0.10496183</td><td>0.5531915</td><td>1.0000000</td><td>0.20447020</td><td>0.3688889</td></tr>\n",
       "\t<tr><th scope=row>3</th><td>0.0002356977</td><td>0.00</td><td>0.24230205</td><td>0</td><td>0.1728395</td><td>0.6943859</td><td>0.5993821</td><td>0.3489620</td><td>0.04347826</td><td>0.10496183</td><td>0.5531915</td><td>0.9897373</td><td>0.06346578</td><td>0.6600000</td></tr>\n",
       "\t<tr><th scope=row>4</th><td>0.0002927957</td><td>0.00</td><td>0.06304985</td><td>0</td><td>0.1502058</td><td>0.6585553</td><td>0.4418126</td><td>0.4485446</td><td>0.08695652</td><td>0.06679389</td><td>0.6489362</td><td>0.9942761</td><td>0.03338852</td><td>0.6311111</td></tr>\n",
       "\t<tr><th scope=row>5</th><td>0.0007050701</td><td>0.00</td><td>0.06304985</td><td>0</td><td>0.1502058</td><td>0.6871048</td><td>0.5283213</td><td>0.4485446</td><td>0.08695652</td><td>0.06679389</td><td>0.6489362</td><td>1.0000000</td><td>0.09933775</td><td>0.6933333</td></tr>\n",
       "\t<tr><th scope=row>6</th><td>0.0002644715</td><td>0.00</td><td>0.06304985</td><td>0</td><td>0.1502058</td><td>0.5497222</td><td>0.5746653</td><td>0.4485446</td><td>0.08695652</td><td>0.06679389</td><td>0.6489362</td><td>0.9929901</td><td>0.09602649</td><td>0.5266667</td></tr>\n",
       "</tbody>\n",
       "</table>\n"
      ],
      "text/latex": [
       "A data.frame: 6 × 14\n",
       "\\begin{tabular}{r|llllllllllllll}\n",
       "  & crim & zn & indus & chas & nox & rm & age & dis & rad & tax & ptratio & black & lstat & medv\\\\\n",
       "  & <dbl> & <dbl> & <dbl> & <dbl> & <dbl> & <dbl> & <dbl> & <dbl> & <dbl> & <dbl> & <dbl> & <dbl> & <dbl> & <dbl>\\\\\n",
       "\\hline\n",
       "\t1 & 0.0000000000 & 0.18 & 0.06781525 & 0 & 0.3148148 & 0.5775053 & 0.6416066 & 0.2692031 & 0.00000000 & 0.20801527 & 0.2872340 & 1.0000000 & 0.08967991 & 0.4222222\\\\\n",
       "\t2 & 0.0002359225 & 0.00 & 0.24230205 & 0 & 0.1728395 & 0.5479977 & 0.7826982 & 0.3489620 & 0.04347826 & 0.10496183 & 0.5531915 & 1.0000000 & 0.20447020 & 0.3688889\\\\\n",
       "\t3 & 0.0002356977 & 0.00 & 0.24230205 & 0 & 0.1728395 & 0.6943859 & 0.5993821 & 0.3489620 & 0.04347826 & 0.10496183 & 0.5531915 & 0.9897373 & 0.06346578 & 0.6600000\\\\\n",
       "\t4 & 0.0002927957 & 0.00 & 0.06304985 & 0 & 0.1502058 & 0.6585553 & 0.4418126 & 0.4485446 & 0.08695652 & 0.06679389 & 0.6489362 & 0.9942761 & 0.03338852 & 0.6311111\\\\\n",
       "\t5 & 0.0007050701 & 0.00 & 0.06304985 & 0 & 0.1502058 & 0.6871048 & 0.5283213 & 0.4485446 & 0.08695652 & 0.06679389 & 0.6489362 & 1.0000000 & 0.09933775 & 0.6933333\\\\\n",
       "\t6 & 0.0002644715 & 0.00 & 0.06304985 & 0 & 0.1502058 & 0.5497222 & 0.5746653 & 0.4485446 & 0.08695652 & 0.06679389 & 0.6489362 & 0.9929901 & 0.09602649 & 0.5266667\\\\\n",
       "\\end{tabular}\n"
      ],
      "text/markdown": [
       "\n",
       "A data.frame: 6 × 14\n",
       "\n",
       "| <!--/--> | crim &lt;dbl&gt; | zn &lt;dbl&gt; | indus &lt;dbl&gt; | chas &lt;dbl&gt; | nox &lt;dbl&gt; | rm &lt;dbl&gt; | age &lt;dbl&gt; | dis &lt;dbl&gt; | rad &lt;dbl&gt; | tax &lt;dbl&gt; | ptratio &lt;dbl&gt; | black &lt;dbl&gt; | lstat &lt;dbl&gt; | medv &lt;dbl&gt; |\n",
       "|---|---|---|---|---|---|---|---|---|---|---|---|---|---|---|\n",
       "| 1 | 0.0000000000 | 0.18 | 0.06781525 | 0 | 0.3148148 | 0.5775053 | 0.6416066 | 0.2692031 | 0.00000000 | 0.20801527 | 0.2872340 | 1.0000000 | 0.08967991 | 0.4222222 |\n",
       "| 2 | 0.0002359225 | 0.00 | 0.24230205 | 0 | 0.1728395 | 0.5479977 | 0.7826982 | 0.3489620 | 0.04347826 | 0.10496183 | 0.5531915 | 1.0000000 | 0.20447020 | 0.3688889 |\n",
       "| 3 | 0.0002356977 | 0.00 | 0.24230205 | 0 | 0.1728395 | 0.6943859 | 0.5993821 | 0.3489620 | 0.04347826 | 0.10496183 | 0.5531915 | 0.9897373 | 0.06346578 | 0.6600000 |\n",
       "| 4 | 0.0002927957 | 0.00 | 0.06304985 | 0 | 0.1502058 | 0.6585553 | 0.4418126 | 0.4485446 | 0.08695652 | 0.06679389 | 0.6489362 | 0.9942761 | 0.03338852 | 0.6311111 |\n",
       "| 5 | 0.0007050701 | 0.00 | 0.06304985 | 0 | 0.1502058 | 0.6871048 | 0.5283213 | 0.4485446 | 0.08695652 | 0.06679389 | 0.6489362 | 1.0000000 | 0.09933775 | 0.6933333 |\n",
       "| 6 | 0.0002644715 | 0.00 | 0.06304985 | 0 | 0.1502058 | 0.5497222 | 0.5746653 | 0.4485446 | 0.08695652 | 0.06679389 | 0.6489362 | 0.9929901 | 0.09602649 | 0.5266667 |\n",
       "\n"
      ],
      "text/plain": [
       "  crim         zn   indus      chas nox       rm        age       dis      \n",
       "1 0.0000000000 0.18 0.06781525 0    0.3148148 0.5775053 0.6416066 0.2692031\n",
       "2 0.0002359225 0.00 0.24230205 0    0.1728395 0.5479977 0.7826982 0.3489620\n",
       "3 0.0002356977 0.00 0.24230205 0    0.1728395 0.6943859 0.5993821 0.3489620\n",
       "4 0.0002927957 0.00 0.06304985 0    0.1502058 0.6585553 0.4418126 0.4485446\n",
       "5 0.0007050701 0.00 0.06304985 0    0.1502058 0.6871048 0.5283213 0.4485446\n",
       "6 0.0002644715 0.00 0.06304985 0    0.1502058 0.5497222 0.5746653 0.4485446\n",
       "  rad        tax        ptratio   black     lstat      medv     \n",
       "1 0.00000000 0.20801527 0.2872340 1.0000000 0.08967991 0.4222222\n",
       "2 0.04347826 0.10496183 0.5531915 1.0000000 0.20447020 0.3688889\n",
       "3 0.04347826 0.10496183 0.5531915 0.9897373 0.06346578 0.6600000\n",
       "4 0.08695652 0.06679389 0.6489362 0.9942761 0.03338852 0.6311111\n",
       "5 0.08695652 0.06679389 0.6489362 1.0000000 0.09933775 0.6933333\n",
       "6 0.08695652 0.06679389 0.6489362 0.9929901 0.09602649 0.5266667"
      ]
     },
     "metadata": {},
     "output_type": "display_data"
    }
   ],
   "source": [
    "scaled.data <- scale(data, center=mins, scale = maxs-mins)\n",
    "scaled <- as.data.frame(scaled.data)\n",
    "head(scaled)"
   ]
  },
  {
   "cell_type": "markdown",
   "metadata": {},
   "source": [
    "### Splitting the data"
   ]
  },
  {
   "cell_type": "code",
   "execution_count": 9,
   "metadata": {},
   "outputs": [],
   "source": [
    "library(caTools)\n",
    "sample <- sample.split(scaled$medv, SplitRatio=0.7)\n",
    "train <- subset(scaled, sample==T)\n",
    "test <- subset(scaled, sample==F)"
   ]
  },
  {
   "cell_type": "markdown",
   "metadata": {},
   "source": [
    "### Building the model"
   ]
  },
  {
   "cell_type": "code",
   "execution_count": 10,
   "metadata": {},
   "outputs": [],
   "source": [
    "library(neuralnet)"
   ]
  },
  {
   "cell_type": "code",
   "execution_count": 11,
   "metadata": {},
   "outputs": [],
   "source": [
    "n <- names(train)\n",
    "f <- as.formula(paste(\"medv ~\", paste(n[!n %in% \"medv\"], collapse = \" + \")))"
   ]
  },
  {
   "cell_type": "code",
   "execution_count": 12,
   "metadata": {},
   "outputs": [],
   "source": [
    "nn <- neuralnet(f, data=train, hidden=c(5,3), linear.output=T)"
   ]
  },
  {
   "cell_type": "code",
   "execution_count": 13,
   "metadata": {},
   "outputs": [],
   "source": [
    "plot(nn)"
   ]
  },
  {
   "cell_type": "code",
   "execution_count": 14,
   "metadata": {},
   "outputs": [
    {
     "name": "stdout",
     "output_type": "stream",
     "text": [
      "List of 2\n",
      " $ neurons   :List of 3\n",
      "  ..$ : num [1:139, 1:14] 1 1 1 1 1 1 1 1 1 1 ...\n",
      "  .. ..- attr(*, \"dimnames\")=List of 2\n",
      "  .. .. ..$ : chr [1:139] \"1\" \"2\" \"5\" \"8\" ...\n",
      "  .. .. ..$ : chr [1:14] \"\" \"crim\" \"zn\" \"indus\" ...\n",
      "  ..$ : num [1:139, 1:6] 1 1 1 1 1 1 1 1 1 1 ...\n",
      "  .. ..- attr(*, \"dimnames\")=List of 2\n",
      "  .. .. ..$ : chr [1:139] \"1\" \"2\" \"5\" \"8\" ...\n",
      "  .. .. ..$ : NULL\n",
      "  ..$ : num [1:139, 1:4] 1 1 1 1 1 1 1 1 1 1 ...\n",
      "  .. ..- attr(*, \"dimnames\")=List of 2\n",
      "  .. .. ..$ : chr [1:139] \"1\" \"2\" \"5\" \"8\" ...\n",
      "  .. .. ..$ : NULL\n",
      " $ net.result: num [1:139, 1] 0.509 0.423 0.593 0.282 0.149 ...\n",
      "  ..- attr(*, \"dimnames\")=List of 2\n",
      "  .. ..$ : chr [1:139] \"1\" \"2\" \"5\" \"8\" ...\n",
      "  .. ..$ : NULL\n"
     ]
    }
   ],
   "source": [
    "predicted.nn.values <- compute(nn, test[1:13])\n",
    "str(predicted.nn.values)"
   ]
  },
  {
   "cell_type": "code",
   "execution_count": 15,
   "metadata": {},
   "outputs": [],
   "source": [
    "true.predictions <- predicted.nn.values$net.result * (max(data$medv)-min(data$medv))+min(data$medv)"
   ]
  },
  {
   "cell_type": "markdown",
   "metadata": {},
   "source": [
    "### Convert the test data"
   ]
  },
  {
   "cell_type": "code",
   "execution_count": 16,
   "metadata": {},
   "outputs": [
    {
     "data": {
      "text/html": [
       "16.4963019627315"
      ],
      "text/latex": [
       "16.4963019627315"
      ],
      "text/markdown": [
       "16.4963019627315"
      ],
      "text/plain": [
       "[1] 16.4963"
      ]
     },
     "metadata": {},
     "output_type": "display_data"
    }
   ],
   "source": [
    "test.r <- (test$medv)*(max(data$medv)-min(data$medv))+min(data$medv)\n",
    "MSE.nn <- sum((test.r - true.predictions)^2)/nrow(test)\n",
    "MSE.nn"
   ]
  },
  {
   "cell_type": "code",
   "execution_count": 17,
   "metadata": {},
   "outputs": [
    {
     "data": {
      "text/html": [
       "<table>\n",
       "<caption>A data.frame: 6 × 2</caption>\n",
       "<thead>\n",
       "\t<tr><th></th><th scope=col>test.r</th><th scope=col>true.predictions</th></tr>\n",
       "\t<tr><th></th><th scope=col>&lt;dbl&gt;</th><th scope=col>&lt;dbl&gt;</th></tr>\n",
       "</thead>\n",
       "<tbody>\n",
       "\t<tr><th scope=row>1</th><td>24.0</td><td>27.90671</td></tr>\n",
       "\t<tr><th scope=row>2</th><td>21.6</td><td>24.03780</td></tr>\n",
       "\t<tr><th scope=row>5</th><td>36.2</td><td>31.67974</td></tr>\n",
       "\t<tr><th scope=row>8</th><td>27.1</td><td>17.70436</td></tr>\n",
       "\t<tr><th scope=row>9</th><td>16.5</td><td>11.72655</td></tr>\n",
       "\t<tr><th scope=row>15</th><td>18.2</td><td>18.84161</td></tr>\n",
       "</tbody>\n",
       "</table>\n"
      ],
      "text/latex": [
       "A data.frame: 6 × 2\n",
       "\\begin{tabular}{r|ll}\n",
       "  & test.r & true.predictions\\\\\n",
       "  & <dbl> & <dbl>\\\\\n",
       "\\hline\n",
       "\t1 & 24.0 & 27.90671\\\\\n",
       "\t2 & 21.6 & 24.03780\\\\\n",
       "\t5 & 36.2 & 31.67974\\\\\n",
       "\t8 & 27.1 & 17.70436\\\\\n",
       "\t9 & 16.5 & 11.72655\\\\\n",
       "\t15 & 18.2 & 18.84161\\\\\n",
       "\\end{tabular}\n"
      ],
      "text/markdown": [
       "\n",
       "A data.frame: 6 × 2\n",
       "\n",
       "| <!--/--> | test.r &lt;dbl&gt; | true.predictions &lt;dbl&gt; |\n",
       "|---|---|---|\n",
       "| 1 | 24.0 | 27.90671 |\n",
       "| 2 | 21.6 | 24.03780 |\n",
       "| 5 | 36.2 | 31.67974 |\n",
       "| 8 | 27.1 | 17.70436 |\n",
       "| 9 | 16.5 | 11.72655 |\n",
       "| 15 | 18.2 | 18.84161 |\n",
       "\n"
      ],
      "text/plain": [
       "   test.r true.predictions\n",
       "1  24.0   27.90671        \n",
       "2  21.6   24.03780        \n",
       "5  36.2   31.67974        \n",
       "8  27.1   17.70436        \n",
       "9  16.5   11.72655        \n",
       "15 18.2   18.84161        "
      ]
     },
     "metadata": {},
     "output_type": "display_data"
    }
   ],
   "source": [
    "error.df <- data.frame(test.r, true.predictions)\n",
    "head(error.df)"
   ]
  },
  {
   "cell_type": "code",
   "execution_count": 18,
   "metadata": {},
   "outputs": [],
   "source": [
    "library(ggplot2)"
   ]
  },
  {
   "cell_type": "code",
   "execution_count": 19,
   "metadata": {},
   "outputs": [
    {
     "name": "stderr",
     "output_type": "stream",
     "text": [
      "`geom_smooth()` using method = 'loess' and formula 'y ~ x'\n",
      "\n"
     ]
    },
    {
     "data": {
      "image/png": "[encoded data removed]",
      "text/plain": [
       "plot without title"
      ]
     },
     "metadata": {
      "image/png": {
       "height": 420,
       "width": 420
      }
     },
     "output_type": "display_data"
    }
   ],
   "source": [
    "ggplot(error.df, aes(test.r, true.predictions)) + geom_point() + stat_smooth()"
   ]
  },
  {
   "cell_type": "markdown",
   "metadata": {},
   "source": [
    "## END!!!"
   ]
  },
  {
   "cell_type": "code",
   "execution_count": null,
   "metadata": {},
   "outputs": [],
   "source": []
  }
 ],
 "metadata": {
  "kernelspec": {
   "display_name": "R",
   "language": "R",
   "name": "ir"
  },
  "language_info": {
   "codemirror_mode": "r",
   "file_extension": ".r",
   "mimetype": "text/x-r-source",
   "name": "R",
   "pygments_lexer": "r",
   "version": "4.0.2"
  }
 },
 "nbformat": 4,
 "nbformat_minor": 4
}
